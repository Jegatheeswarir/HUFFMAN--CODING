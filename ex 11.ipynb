{
 "cells": [
  {
   "cell_type": "markdown",
   "id": "65d919d5-5f49-4536-bf86-21de11057b53",
   "metadata": {},
   "source": [
    "-NAME: JEGATHEESWARI R\n",
    "-REG NO: 212223230092"
   ]
  },
  {
   "cell_type": "code",
   "execution_count": 1,
   "id": "d3cfd1d4",
   "metadata": {},
   "outputs": [
    {
     "name": "stdout",
     "output_type": "stream",
     "text": [
      " Char | Huffman code \n",
      "----------------------\n",
      "'E' |          00\n",
      "'A' |         011\n",
      "'R' |         010\n",
      "'J' |        1101\n",
      "'G' |        1100\n",
      "'T' |        1111\n",
      "'H' |        1110\n",
      "'S' |        1001\n",
      "'W' |        1000\n",
      "'I' |        1011\n",
      "' ' |        1010\n"
     ]
    }
   ],
   "source": [
    "string =\"JEGATHEESWARI R\"\n",
    "\n",
    "\n",
    "class NodeTree(object):\n",
    "    def __init__(self, left=None, right=None): \n",
    "        self.left = left\n",
    "        self.right=right\n",
    "    def children(self):\n",
    "        return (self.left,self.right)\n",
    "    def nodes (self):\n",
    "        return (self.left,self.right)\n",
    "    def __str__(self):\n",
    "        return '%s %s' %(self.left,self.right)\n",
    "\n",
    "\n",
    "def huffman_code_tree (node, left=True, binString=''):\n",
    "    if type(node) is str:\n",
    "        return {node: binString}\n",
    "    (l, r) = node.children()\n",
    "    d = dict()\n",
    "    d.update(huffman_code_tree (l, True, binString + '0'))\n",
    "    d.update(huffman_code_tree (r, False, binString + '1'))\n",
    "    return d\n",
    "\n",
    "\n",
    "freq = {}\n",
    "for c in string:\n",
    "    if c in freq:\n",
    "        freq[c] += 1\n",
    "    else:\n",
    "        freq[c] = 1\n",
    "freq = sorted(freq.items(), key=lambda x: x[1], reverse=True)\n",
    "nodes=freq\n",
    "while len(nodes)>1:\n",
    "    (key1,c1)=nodes[-1]\n",
    "    (key2,c2)=nodes[-2]\n",
    "    nodes = nodes[:-2]\n",
    "    node = NodeTree (key1, key2)\n",
    "    nodes.append((node,c1 + c2))\n",
    "    nodes = sorted (nodes, key=lambda x: x[1], reverse=True)\n",
    "\n",
    "\n",
    "huffmanCode=huffman_code_tree(nodes[0][0])\n",
    "print(' Char | Huffman code ') \n",
    "print('----------------------')\n",
    "for (char, frequency) in freq:\n",
    "    print('%-4r|%12s'%(char,huffmanCode[char]))\n",
    " "
   ]
  },
  {
   "cell_type": "code",
   "execution_count": null,
   "id": "2bdc059d",
   "metadata": {},
   "outputs": [],
   "source": []
  }
 ],
 "metadata": {
  "kernelspec": {
   "display_name": "Python 3 (ipykernel)",
   "language": "python",
   "name": "python3"
  },
  "language_info": {
   "codemirror_mode": {
    "name": "ipython",
    "version": 3
   },
   "file_extension": ".py",
   "mimetype": "text/x-python",
   "name": "python",
   "nbconvert_exporter": "python",
   "pygments_lexer": "ipython3",
   "version": "3.11.13"
  }
 },
 "nbformat": 4,
 "nbformat_minor": 5
}
